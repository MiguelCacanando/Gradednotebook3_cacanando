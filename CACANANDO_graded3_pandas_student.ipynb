{
 "cells": [
  {
   "cell_type": "markdown",
   "id": "174e376c",
   "metadata": {
    "id": "174e376c"
   },
   "source": [
    "# Zomato Exercise"
   ]
  },
  {
   "cell_type": "markdown",
   "id": "2d84fdf3",
   "metadata": {
    "id": "2d84fdf3"
   },
   "source": [
    "Zomato is a restaurant aggregator website. The platform provides information, menus and user-reviews of restaurants as well as food delivery options from partner restaurants in select cities. You have been provided 3 datasets:\n",
    "\n",
    "- zomato.csv contains restaurant information like average_cost_for_two, cuisines\n",
    "- location.csv contains location of the restaurants like address, city, locality & etc\n",
    "- ratings.csv contains aggregate rating for each restaurant\n",
    "\n",
    "The different files are connected using the `id` columns which can be found in the different files. The id column is a unique identifier to represent a restaurant. You can use this to **merge** the different files."
   ]
  },
  {
   "cell_type": "code",
   "execution_count": 2,
   "id": "5337de5f",
   "metadata": {
    "id": "5337de5f"
   },
   "outputs": [],
   "source": [
    "import pandas as pd\n",
    "import numpy as np"
   ]
  },
  {
   "cell_type": "markdown",
   "id": "77605fbc",
   "metadata": {
    "id": "77605fbc"
   },
   "source": [
    "1. Merge the zomato, location & ratings file into a signle dataframe and store it to the `merged_df` variable **(3pts)**"
   ]
  },
  {
   "cell_type": "code",
   "execution_count": 10,
   "id": "ddbd0bb1",
   "metadata": {
    "id": "ddbd0bb1"
   },
   "outputs": [],
   "source": [
    "df1 = pd.read_csv('location.csv') #pd.read_csv allows python to read your csv onto the code\n",
    "df2 = pd.read_csv('ratings.csv')\n",
    "df3 = pd.read_csv('zomato.csv')\n",
    "\n",
    "merged_df_temp = pd.merge(df1, df2, on='id') #pd.merge can only merge 2 .csv files at a time that is why I used merged_df_temp\n",
    "merged_df = pd.merge(merged_df_temp, df3, on='id')"
   ]
  },
  {
   "cell_type": "code",
   "execution_count": 8,
   "id": "b2a86a44",
   "metadata": {
    "id": "b2a86a44"
   },
   "outputs": [],
   "source": [
    "assert (6830, 35)==merged_df.shape\n",
    "\n",
    "cols = ['id', 'address', 'city', 'city_id', 'country_id', 'latitude',\n",
    "       'locality', 'locality_verbose', 'longitude', 'zipcode',\n",
    "       'aggregate_rating', 'rating_color', 'rating_text', 'votes',\n",
    "       'average_cost_for_two', 'book_url', 'cuisines', 'currency', 'deeplink',\n",
    "       'events_url', 'featured_image', 'has_online_delivery',\n",
    "       'has_table_booking', 'include_bogo_offers', 'is_book_form_web_view',\n",
    "       'is_delivering_now', 'is_table_reservation_supported',\n",
    "       'is_zomato_book_res', 'menu_url', 'mezzo_provider', 'name',\n",
    "       'photos_url', 'price_range', 'thumb', 'url']\n",
    "\n",
    "assert sorted(merged_df.columns) == sorted(cols)"
   ]
  },
  {
   "cell_type": "markdown",
   "id": "02223abe",
   "metadata": {
    "id": "02223abe"
   },
   "source": [
    "2. Create a function that returns the average aggregate rating for each city. Expected returned value is a Series datatype which contains name of city as index and average aggregate rating as value. **(2pts)**"
   ]
  },
  {
   "cell_type": "code",
   "execution_count": 102,
   "id": "bd7d8f34",
   "metadata": {
    "id": "bd7d8f34"
   },
   "outputs": [
    {
     "name": "stdout",
     "output_type": "stream",
     "text": [
      "city\n",
      "Caloocan City       1.953509\n",
      "Las Piñas City      2.855738\n",
      "Makati City         3.250512\n",
      "Malabon City        1.558333\n",
      "Mandaluyong City    2.951919\n",
      "Manila              2.842652\n",
      "Marikina City       2.672512\n",
      "Muntinlupa City     2.962682\n",
      "Parañaque City      3.130100\n",
      "Pasay City          3.302075\n",
      "Pasig City          2.916086\n",
      "Pateros City        1.740000\n",
      "Quezon City         2.887946\n",
      "San Juan City       3.098462\n",
      "Tagaytay City       2.959259\n",
      "Taguig City         3.234105\n",
      "Valenzuela City     1.890741\n",
      "Name: aggregate_rating, dtype: float64\n"
     ]
    }
   ],
   "source": [
    "def exercise_2(merged_df):\n",
    "    res_series = merged_df.groupby('city')['aggregate_rating'].mean() #.mean gets the aggregate average for each city\n",
    "    return res_series\n",
    "\n",
    "print(res_series)"
   ]
  },
  {
   "cell_type": "code",
   "execution_count": 18,
   "id": "10e5b4c1",
   "metadata": {
    "id": "10e5b4c1"
   },
   "outputs": [],
   "source": [
    "res_series = exercise_2(merged_df)\n",
    "assert True == np.isclose(3.302075, res_series[res_series.index == 'Pasay City'],\n",
    "                          rtol=1e-05, atol=1e-08, equal_nan=False)[0]\n",
    "assert True == np.isclose(1.890741, res_series[res_series.index == 'Valenzuela City'],\n",
    "                          rtol=1e-05, atol=1e-08, equal_nan=False)[0]\n",
    "assert True == np.isclose(1.558333, res_series[res_series.index == 'Malabon City'],\n",
    "                          rtol=1e-05, atol=1e-08, equal_nan=False)[0]"
   ]
  },
  {
   "cell_type": "markdown",
   "id": "5db591ac",
   "metadata": {
    "id": "5db591ac"
   },
   "source": [
    "3. Using the apply function of pandas convert the rating_text to a numeric equivalent. You are to introduce a new column in merged_df called `rating_numeric` which is based on the value from rating_text: **(3pts)**\n",
    "\n",
    "Excellent = 5 <br>\n",
    "Very Good = 4 <br>\n",
    "Good = 3 <br>\n",
    "Average = 2 <br>\n",
    "Poor = 1 <br>\n",
    "Not rated = 0 <br>"
   ]
  },
  {
   "cell_type": "code",
   "execution_count": 43,
   "id": "41293771",
   "metadata": {
    "id": "41293771"
   },
   "outputs": [],
   "source": [
    "def rating_to_numeric(rating):\n",
    "    if rating == 'Excellent':\n",
    "        return 5 #meaning if the rating is labeled as \"excellent\", the new column will return 5\n",
    "    elif rating == 'Very Good':\n",
    "        return 4\n",
    "    elif rating == 'Good':\n",
    "        return 3\n",
    "    elif rating == 'Average':\n",
    "        return 2\n",
    "    elif rating == 'Poor':\n",
    "        return 1\n",
    "    else:  # Not rated\n",
    "        return 0 #meaning if it is not rated it will return 0\n",
    "\n",
    "merged_df['rating_numeric'] = merged_df['rating_text'].apply(rating_to_numeric)\n"
   ]
  },
  {
   "cell_type": "code",
   "execution_count": 35,
   "id": "c62df922",
   "metadata": {
    "id": "c62df922"
   },
   "outputs": [],
   "source": [
    "assert 868 == merged_df[merged_df.rating_numeric == 0].shape[0]\n",
    "assert True == ('rating_numeric' in merged_df.columns)"
   ]
  },
  {
   "cell_type": "markdown",
   "id": "97ec4197",
   "metadata": {
    "id": "97ec4197"
   },
   "source": [
    "4. Create a function which filters the merged dataframe to only contain rows coming in from a specific city. Expected returned value is a dataframe **(2pts)**"
   ]
  },
  {
   "cell_type": "code",
   "execution_count": 111,
   "id": "9773b18e",
   "metadata": {
    "id": "9773b18e"
   },
   "outputs": [
    {
     "name": "stdout",
     "output_type": "stream",
     "text": [
      "            id                                            address        city  \\\n",
      "9      6309903       75 East Capitol Drive, Kapitolyo, Pasig City  Pasig City   \n",
      "16    18506282  Ground Floor, Ayala Malls The 30th, Meralco Av...  Pasig City   \n",
      "23     6309635  Ground Floor, City Golf Plaza, Julia Vargas Av...  Pasig City   \n",
      "41     6314987  Brixton Technology Center, 10 Brixton Street, ...  Pasig City   \n",
      "45     6313582                  1st Street, Kapitolyo, Pasig City  Pasig City   \n",
      "...        ...                                                ...         ...   \n",
      "6137   6306470  The Grove By Rockwell, E. Rodriguez Jr. Avenue...  Pasig City   \n",
      "6439  18700988  Ground Floor, Unimart Supermarket, Oranbo, Pas...  Pasig City   \n",
      "6440  18718463  Unimart Capitol Commons, Meralco Avenue Corner...  Pasig City   \n",
      "6441  18700985  Ground Floor, Unimart Supermarket, Oranbo, Pas...  Pasig City   \n",
      "6755  18415076  Ground Floor, Grand Emerald Tower, Ortigas Jr....  Pasig City   \n",
      "\n",
      "      city_id  country_id   latitude                                 locality  \\\n",
      "9          63         162  14.567615                                Kapitolyo   \n",
      "16         63         162  14.580743  Ayala Malls The 30th, Ugong, Pasig City   \n",
      "23         63         162  14.584691       City Golf Plaza, Ugong, Pasig City   \n",
      "41         63         162  14.571722                                Kapitolyo   \n",
      "45         63         162  14.573922                                Kapitolyo   \n",
      "...       ...         ...        ...                                      ...   \n",
      "6137       63         162  14.586303                                    Ugong   \n",
      "6439       63         162  14.574596                                   Oranbo   \n",
      "6440       63         162  14.575094                                   Oranbo   \n",
      "6441       63         162  14.574758                                   Oranbo   \n",
      "6755       63         162  14.588399                                  Ortigas   \n",
      "\n",
      "                                       locality_verbose   longitude  zipcode  \\\n",
      "9                                 Kapitolyo, Pasig City  121.057922      NaN   \n",
      "16    Ayala Malls The 30th, Ugong, Pasig City, Pasig...  121.064060      NaN   \n",
      "23       City Golf Plaza, Ugong, Pasig City, Pasig City  121.067422      NaN   \n",
      "41                                Kapitolyo, Pasig City  121.056609      NaN   \n",
      "45                                Kapitolyo, Pasig City  121.060598      NaN   \n",
      "...                                                 ...         ...      ...   \n",
      "6137                                  Ugong, Pasig City  121.080022      NaN   \n",
      "6439                                 Oranbo, Pasig City  121.062297      NaN   \n",
      "6440                                 Oranbo, Pasig City  121.061908      NaN   \n",
      "6441                                 Oranbo, Pasig City  121.062313      NaN   \n",
      "6755                                Ortigas, Pasig City  121.061205      NaN   \n",
      "\n",
      "      ...  is_table_reservation_supported is_zomato_book_res  \\\n",
      "9     ...                               0                0.0   \n",
      "16    ...                               1                0.0   \n",
      "23    ...                               0                0.0   \n",
      "41    ...                               0                0.0   \n",
      "45    ...                               0                0.0   \n",
      "...   ...                             ...                ...   \n",
      "6137  ...                               0                0.0   \n",
      "6439  ...                               0                0.0   \n",
      "6440  ...                               0                0.0   \n",
      "6441  ...                               0                0.0   \n",
      "6755  ...                               0                0.0   \n",
      "\n",
      "                                               menu_url  mezzo_provider  \\\n",
      "9     https://www.zomato.com/manila/silantro-fil-mex...           OTHER   \n",
      "16    https://www.zomato.com/manila/sibyullee-ugong-...           OTHER   \n",
      "23    https://www.zomato.com/frankieswings/menu?utm_...           OTHER   \n",
      "41    https://www.zomato.com/manila/locavore-kapitol...           OTHER   \n",
      "45    https://www.zomato.com/manila/kanto-freestyle-...           OTHER   \n",
      "...                                                 ...             ...   \n",
      "6137  https://www.zomato.com/manila/starbucks-1-ugon...           OTHER   \n",
      "6439  https://www.zomato.com/manila/pezzo-oranbo-pas...           OTHER   \n",
      "6440  https://www.zomato.com/manila/fruiteria-juices...           OTHER   \n",
      "6441  https://www.zomato.com/manila/de-original-jama...           OTHER   \n",
      "6755  https://www.zomato.com/manila/cocow-barn-ortig...           OTHER   \n",
      "\n",
      "                                                name  \\\n",
      "9                                   Silantro Fil-Mex   \n",
      "16                                         Sibyullee   \n",
      "23                  Frankie's New York Buffalo Wings   \n",
      "41                                          Locavore   \n",
      "45                         Kanto Freestyle Breakfast   \n",
      "...                                              ...   \n",
      "6137                                       Starbucks   \n",
      "6439                                           Pezzo   \n",
      "6440                                Fruiteria Juices   \n",
      "6441  de Original Jamaican Pattie Shop and Juice Bar   \n",
      "6755                                      Cocow Barn   \n",
      "\n",
      "                                             photos_url price_range  \\\n",
      "9     https://www.zomato.com/manila/silantro-fil-mex...           3   \n",
      "16    https://www.zomato.com/manila/sibyullee-ugong-...           4   \n",
      "23    https://www.zomato.com/frankieswings/photos?ut...           3   \n",
      "41    https://www.zomato.com/manila/locavore-kapitol...           3   \n",
      "45    https://www.zomato.com/manila/kanto-freestyle-...           2   \n",
      "...                                                 ...         ...   \n",
      "6137  https://www.zomato.com/manila/starbucks-1-ugon...           2   \n",
      "6439  https://www.zomato.com/manila/pezzo-oranbo-pas...           1   \n",
      "6440  https://www.zomato.com/manila/fruiteria-juices...           1   \n",
      "6441  https://www.zomato.com/manila/de-original-jama...           1   \n",
      "6755  https://www.zomato.com/manila/cocow-barn-ortig...           1   \n",
      "\n",
      "                                                  thumb  \\\n",
      "9     https://b.zmtcdn.com/data/pictures/chains/3/63...   \n",
      "16    https://b.zmtcdn.com/data/pictures/2/18506282/...   \n",
      "23    https://b.zmtcdn.com/data/res_imagery/6309635_...   \n",
      "41    https://b.zmtcdn.com/data/pictures/chains/7/63...   \n",
      "45    https://b.zmtcdn.com/data/pictures/chains/8/63...   \n",
      "...                                                 ...   \n",
      "6137  https://b.zmtcdn.com/data/pictures/chains/5/63...   \n",
      "6439  https://b.zmtcdn.com/data/res_imagery/18305223...   \n",
      "6440                                                NaN   \n",
      "6441  https://b.zmtcdn.com/data/pictures/chains/0/63...   \n",
      "6755  https://b.zmtcdn.com/data/reviews_photos/b22/4...   \n",
      "\n",
      "                                                    url rating_numeric  \n",
      "9     https://www.zomato.com/manila/silantro-fil-mex...              5  \n",
      "16    https://www.zomato.com/manila/sibyullee-ugong-...              5  \n",
      "23    https://www.zomato.com/frankieswings?utm_sourc...              4  \n",
      "41    https://www.zomato.com/manila/locavore-kapitol...              5  \n",
      "45    https://www.zomato.com/manila/kanto-freestyle-...              3  \n",
      "...                                                 ...            ...  \n",
      "6137  https://www.zomato.com/manila/starbucks-1-ugon...              3  \n",
      "6439  https://www.zomato.com/manila/pezzo-oranbo-pas...              0  \n",
      "6440  https://www.zomato.com/manila/fruiteria-juices...              0  \n",
      "6441  https://www.zomato.com/manila/de-original-jama...              0  \n",
      "6755  https://www.zomato.com/manila/cocow-barn-ortig...              2  \n",
      "\n",
      "[373 rows x 36 columns]\n"
     ]
    }
   ],
   "source": [
    "def exercise_4(merged_df, city):\n",
    "    # Filter rows by city\n",
    "    filtered_df = merged_df[merged_df['city'].str.contains(city, case=False, na=False)] #case = false means that capitalization doesnt matter\n",
    "    return filtered_df  # Return the filtered DataFrame\n",
    "\n",
    "# Example usage\n",
    "city_input = 'pasig City' #CHANGE THIS TO WHATEVER CITY YOU NEED DATA FOR\n",
    "filtered_result = exercise_4(merged_df, city_input)  # Call the function\n",
    "\n",
    "# Print the result\n",
    "print(filtered_result)"
   ]
  },
  {
   "cell_type": "code",
   "execution_count": 98,
   "id": "1ca29a81",
   "metadata": {
    "id": "1ca29a81"
   },
   "outputs": [],
   "source": [
    "\n",
    "assert 'Makati City' == exercise_4(merged_df, 'Makati City').city.unique()[0]\n",
    "assert (976, 36) == exercise_4(merged_df, 'Makati City').shape\n",
    "\n",
    "assert 'Mandaluyong City' == exercise_4(merged_df, 'Mandaluyong City').city.unique()[0]\n",
    "assert (443, 36) == exercise_4(merged_df, 'Mandaluyong City').shape\n",
    "\n",
    "assert (0, 36) == exercise_4(merged_df, 'Quezon  City').shape"
   ]
  },
  {
   "cell_type": "markdown",
   "id": "ca7bf3c1",
   "metadata": {
    "id": "ca7bf3c1"
   },
   "source": [
    "5. Create a function to filter the dataframe to only contain certain columns passed in the function. Expected returned value is a dataframe **(1pt)**"
   ]
  },
  {
   "cell_type": "code",
   "execution_count": 160,
   "id": "59787577",
   "metadata": {
    "id": "59787577"
   },
   "outputs": [
    {
     "name": "stdout",
     "output_type": "stream",
     "text": [
      "      average_cost_for_two book_url  \\\n",
      "0                     1000      NaN   \n",
      "1                     1300      NaN   \n",
      "2                     1600      NaN   \n",
      "3                     1000      NaN   \n",
      "4                     3000      NaN   \n",
      "...                    ...      ...   \n",
      "6825                  1000      NaN   \n",
      "6826                   400      NaN   \n",
      "6827                   450      NaN   \n",
      "6828                  1000      NaN   \n",
      "6829                   600      NaN   \n",
      "\n",
      "                                        cuisines currency  \\\n",
      "0                                Japanese, Ramen        P   \n",
      "1                      Korean, Grill, Korean BBQ        P   \n",
      "2                             American, Filipino        P   \n",
      "3                                         Korean        P   \n",
      "4     Seafood, American, Mediterranean, Japanese        P   \n",
      "...                                          ...      ...   \n",
      "6825                              Deli, Filipino        P   \n",
      "6826                                   Fast Food        P   \n",
      "6827                            Bakery, Filipino        P   \n",
      "6828                           American, Italian        P   \n",
      "6829                            Pizza, Fast Food        P   \n",
      "\n",
      "                          deeplink  \\\n",
      "0      zomato://restaurant/6316125   \n",
      "1     zomato://restaurant/18409457   \n",
      "2      zomato://restaurant/6307689   \n",
      "3     zomato://restaurant/18581637   \n",
      "4      zomato://restaurant/6315438   \n",
      "...                            ...   \n",
      "6825  zomato://restaurant/18635649   \n",
      "6826   zomato://restaurant/6318581   \n",
      "6827   zomato://restaurant/6318578   \n",
      "6828   zomato://restaurant/6309612   \n",
      "6829   zomato://restaurant/6318582   \n",
      "\n",
      "                                             events_url  \\\n",
      "0     https://www.zomato.com/manila/mendokoro-ramenb...   \n",
      "1     https://www.zomato.com/manila/soban-k-town-gri...   \n",
      "2     https://www.zomato.com/manila/filling-station-...   \n",
      "3     https://www.zomato.com/manila/romantic-baboy-t...   \n",
      "4     https://www.zomato.com/manila/niu-by-vikings-b...   \n",
      "...                                                 ...   \n",
      "6825  https://www.zomato.com/manila/trader-juans-fil...   \n",
      "6826  https://www.zomato.com/manila/jollibee-north-c...   \n",
      "6827  https://www.zomato.com/manila/goldilocks-north...   \n",
      "6828  https://www.zomato.com/manila/red-buffalo-wing...   \n",
      "6829  https://www.zomato.com/manila/greenwich-north-...   \n",
      "\n",
      "                                         featured_image  has_online_delivery  \\\n",
      "0     https://b.zmtcdn.com/data/reviews_photos/971/2...                    0   \n",
      "1     https://b.zmtcdn.com/data/res_imagery/18290970...                    0   \n",
      "2     https://b.zmtcdn.com/data/pictures/9/6307689/b...                    0   \n",
      "3     https://b.zmtcdn.com/data/reviews_photos/cc1/a...                    0   \n",
      "4     https://b.zmtcdn.com/data/pictures/chains/8/63...                    0   \n",
      "...                                                 ...                  ...   \n",
      "6825                                                NaN                    0   \n",
      "6826  http://b.zmtcdn.com/data/pictures/chains/0/630...                    0   \n",
      "6827  https://b.zmtcdn.com/data/res_imagery/6300003_...                    0   \n",
      "6828  https://b.zmtcdn.com/data/res_imagery/6309612_...                    0   \n",
      "6829  https://b.zmtcdn.com/data/pictures/chains/2/63...                    0   \n",
      "\n",
      "      has_table_booking  include_bogo_offers  is_book_form_web_view  \n",
      "0                     0                 True                    0.0  \n",
      "1                     0                 True                    0.0  \n",
      "2                     0                 True                    0.0  \n",
      "3                     0                 True                    0.0  \n",
      "4                     0                 True                    0.0  \n",
      "...                 ...                  ...                    ...  \n",
      "6825                  0                 True                    0.0  \n",
      "6826                  0                 True                    0.0  \n",
      "6827                  0                 True                    0.0  \n",
      "6828                  0                 True                    0.0  \n",
      "6829                  0                 True                    0.0  \n",
      "\n",
      "[6830 rows x 11 columns]\n"
     ]
    }
   ],
   "source": [
    "def exercise_5(merged_df, cols_to_filter):\n",
    "    filtered_df2 = merged_df[cols]\n",
    "    return filtered_df2\n",
    "\n",
    "columns_to_keep = ['average_cost_for_two', 'book_url']  # Specify which columns to keep\n",
    "filtered_result1 = exercise_5(merged_df, columns_to_keep)\n",
    "\n",
    "print(filtered_result1)"
   ]
  },
  {
   "cell_type": "code",
   "execution_count": 142,
   "id": "da27c054",
   "metadata": {
    "id": "da27c054"
   },
   "outputs": [],
   "source": [
    "cols = ['name', 'cuisines', 'city', 'aggregate_rating']\n",
    "assert sorted(cols) == sorted(exercise_5(merged_df, cols).columns)\n",
    "assert (6830, 4) == exercise_5(merged_df, cols).shape\n",
    "\n",
    "cols = ['average_cost_for_two', 'book_url', 'cuisines', 'currency', 'deeplink',\n",
    "       'events_url', 'featured_image', 'has_online_delivery',\n",
    "       'has_table_booking', 'include_bogo_offers', 'is_book_form_web_view']\n",
    "assert sorted(cols) == sorted(exercise_5(merged_df, cols).columns)\n",
    "assert (6830, 11) == exercise_5(merged_df, cols).shape\n"
   ]
  },
  {
   "cell_type": "markdown",
   "id": "d69c7e2e",
   "metadata": {
    "id": "d69c7e2e"
   },
   "source": [
    "6.  What is the most common restaurant name in the dataset? **(2pts)** Write down your answer and show code used to come up with the answer."
   ]
  },
  {
   "cell_type": "code",
   "execution_count": 188,
   "id": "cf9cdab1",
   "metadata": {
    "id": "cf9cdab1"
   },
   "outputs": [
    {
     "name": "stdout",
     "output_type": "stream",
     "text": [
      "0    Starbucks\n",
      "Name: name, dtype: object\n"
     ]
    }
   ],
   "source": [
    "#Most common restaurant is Starbucks\n",
    "\n",
    "common_restaurant = merged_df['name'].mode(0)\n",
    "print(common_restaurant)"
   ]
  },
  {
   "cell_type": "markdown",
   "id": "7675b4b1",
   "metadata": {
    "id": "7675b4b1"
   },
   "source": [
    "7. Which restaurant has the most expensive average cost for two? **(2pts)** Write down your answer and show code used to come up with the answer."
   ]
  },
  {
   "cell_type": "code",
   "execution_count": 204,
   "id": "b447b440",
   "metadata": {
    "id": "b447b440"
   },
   "outputs": [
    {
     "name": "stdout",
     "output_type": "stream",
     "text": [
      "                  name  average_cost_for_two\n",
      "1713  The Tasting Room                 10000\n"
     ]
    }
   ],
   "source": [
    "#The Tasting Room, with the average cost of Php 10,000\n",
    "\n",
    "most_expensive_restaurant = merged_df[merged_df['average_cost_for_two'] == merged_df['average_cost_for_two'].max()] #this code filters the data to get the most expensive restaurant\n",
    "\n",
    "print(most_expensive_restaurant[['name', 'average_cost_for_two']])"
   ]
  },
  {
   "cell_type": "markdown",
   "id": "af873fb7",
   "metadata": {
    "id": "af873fb7"
   },
   "source": [
    "8. How many restaurants do not have a zipcode? **(1pt)** Write down your answer and show code used to come up with the answer."
   ]
  },
  {
   "cell_type": "code",
   "execution_count": 212,
   "id": "43f1234a",
   "metadata": {
    "id": "43f1234a"
   },
   "outputs": [
    {
     "name": "stdout",
     "output_type": "stream",
     "text": [
      "6713\n"
     ]
    }
   ],
   "source": [
    "#6,713 restaurants do not have a zipcode\n",
    "\n",
    "no_zipcode = merged_df['zipcode'].isnull().sum() \n",
    "#.isnull creates a boolean series that makes true a missing value\n",
    "#.sum counts number of true values\n",
    "print(no_zipcode)"
   ]
  },
  {
   "cell_type": "markdown",
   "id": "9347ac03",
   "metadata": {
    "id": "9347ac03"
   },
   "source": [
    "9. How many restaurants in the dataset allow online delivery? **(1pt)** Write down your answer and show code used to come up with the answer."
   ]
  },
  {
   "cell_type": "code",
   "execution_count": 216,
   "id": "24b62212",
   "metadata": {
    "id": "24b62212"
   },
   "outputs": [
    {
     "name": "stdout",
     "output_type": "stream",
     "text": [
      "0\n"
     ]
    }
   ],
   "source": [
    "#0 restaurants do online deilvery\n",
    "\n",
    "online_delivery = merged_df['has_online_delivery'].sum() #.sum counts the amount of 1 since 1 = true\n",
    "\n",
    "print(online_delivery)"
   ]
  },
  {
   "cell_type": "markdown",
   "id": "7f2c7aa3",
   "metadata": {
    "id": "7f2c7aa3"
   },
   "source": [
    "10. Which locatlity has more expensive food? Poblacion or Salcedo Village? **(3pts)** Write down your answer and show code used to come up with the answer.\n"
   ]
  },
  {
   "cell_type": "code",
   "execution_count": 234,
   "id": "8fb7ce16",
   "metadata": {
    "id": "8fb7ce16"
   },
   "outputs": [
    {
     "name": "stdout",
     "output_type": "stream",
     "text": [
      "Average Poblacion Cost:Php 898\n",
      "Average Salcedo Cost:Php 989\n"
     ]
    }
   ],
   "source": [
    "#Salcedo has the more expensive costs with an amount of Php 989\n",
    "\n",
    "avg_cost_poblacion = int(merged_df[merged_df['locality'] == 'Poblacion']['average_cost_for_two'].mean())\n",
    "avg_cost_salcedo = int(merged_df[merged_df['locality'] == 'Salcedo Village']['average_cost_for_two'].mean())\n",
    "\n",
    "print(f'Average Poblacion Cost:Php {avg_cost_poblacion}')\n",
    "print(f'Average Salcedo Cost:Php {avg_cost_salcedo}')"
   ]
  }
 ],
 "metadata": {
  "colab": {
   "provenance": []
  },
  "kernelspec": {
   "display_name": "Python 3 (ipykernel)",
   "language": "python",
   "name": "python3"
  },
  "language_info": {
   "codemirror_mode": {
    "name": "ipython",
    "version": 3
   },
   "file_extension": ".py",
   "mimetype": "text/x-python",
   "name": "python",
   "nbconvert_exporter": "python",
   "pygments_lexer": "ipython3",
   "version": "3.12.4"
  }
 },
 "nbformat": 4,
 "nbformat_minor": 5
}
